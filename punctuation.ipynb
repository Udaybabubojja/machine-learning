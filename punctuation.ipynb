{
  "nbformat": 4,
  "nbformat_minor": 0,
  "metadata": {
    "colab": {
      "provenance": [],
      "authorship_tag": "ABX9TyOdaTgvCnOsfADPqo3H5DCW",
      "include_colab_link": true
    },
    "kernelspec": {
      "name": "python3",
      "display_name": "Python 3"
    },
    "language_info": {
      "name": "python"
    }
  },
  "cells": [
    {
      "cell_type": "markdown",
      "metadata": {
        "id": "view-in-github",
        "colab_type": "text"
      },
      "source": [
        "<a href=\"https://colab.research.google.com/github/Udaybabubojja/machine-learning/blob/main/punctuation.ipynb\" target=\"_parent\"><img src=\"https://colab.research.google.com/assets/colab-badge.svg\" alt=\"Open In Colab\"/></a>"
      ]
    },
    {
      "cell_type": "code",
      "execution_count": 11,
      "metadata": {
        "colab": {
          "base_uri": "https://localhost:8080/"
        },
        "id": "ZAAdw3A_pMJA",
        "outputId": "e2346573-70e2-4d98-8f6d-25980c244037"
      },
      "outputs": [
        {
          "output_type": "stream",
          "name": "stdout",
          "text": [
            "hello all  my name is uday   babu 21pa\n"
          ]
        }
      ],
      "source": [
        "test_str = 'hello, all ? my name is uday, # $ babu @21pa'\n",
        "test_str = test_str.translate(str.maketrans('', '', string.punctuation))\n",
        "print(test_str)"
      ]
    }
  ]
}