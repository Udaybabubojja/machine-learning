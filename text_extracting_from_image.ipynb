{
  "nbformat": 4,
  "nbformat_minor": 0,
  "metadata": {
    "colab": {
      "provenance": [],
      "authorship_tag": "ABX9TyMR7N07FTFHoRAwBzSdTkbF",
      "include_colab_link": true
    },
    "kernelspec": {
      "name": "python3",
      "display_name": "Python 3"
    },
    "language_info": {
      "name": "python"
    }
  },
  "cells": [
    {
      "cell_type": "markdown",
      "metadata": {
        "id": "view-in-github",
        "colab_type": "text"
      },
      "source": [
        "<a href=\"https://colab.research.google.com/github/Udaybabubojja/machine-learning/blob/main/text_extracting_from_image.ipynb\" target=\"_parent\"><img src=\"https://colab.research.google.com/assets/colab-badge.svg\" alt=\"Open In Colab\"/></a>"
      ]
    },
    {
      "cell_type": "code",
      "execution_count": 2,
      "metadata": {
        "colab": {
          "base_uri": "https://localhost:8080/"
        },
        "id": "QwZ3w0-UTlFM",
        "outputId": "6dc167d1-0ed6-4297-8293-1ddc42837c3a"
      },
      "outputs": [
        {
          "output_type": "stream",
          "name": "stdout",
          "text": [
            "Requirement already satisfied: easyocr in /usr/local/lib/python3.10/dist-packages (1.7.0)\n",
            "Requirement already satisfied: torch in /usr/local/lib/python3.10/dist-packages (from easyocr) (2.0.1+cu118)\n",
            "Requirement already satisfied: torchvision>=0.5 in /usr/local/lib/python3.10/dist-packages (from easyocr) (0.15.2+cu118)\n",
            "Requirement already satisfied: opencv-python-headless in /usr/local/lib/python3.10/dist-packages (from easyocr) (4.8.0.74)\n",
            "Requirement already satisfied: scipy in /usr/local/lib/python3.10/dist-packages (from easyocr) (1.10.1)\n",
            "Requirement already satisfied: numpy in /usr/local/lib/python3.10/dist-packages (from easyocr) (1.22.4)\n",
            "Requirement already satisfied: Pillow in /usr/local/lib/python3.10/dist-packages (from easyocr) (9.4.0)\n",
            "Requirement already satisfied: scikit-image in /usr/local/lib/python3.10/dist-packages (from easyocr) (0.19.3)\n",
            "Requirement already satisfied: python-bidi in /usr/local/lib/python3.10/dist-packages (from easyocr) (0.4.2)\n",
            "Requirement already satisfied: PyYAML in /usr/local/lib/python3.10/dist-packages (from easyocr) (6.0.1)\n",
            "Requirement already satisfied: Shapely in /usr/local/lib/python3.10/dist-packages (from easyocr) (2.0.1)\n",
            "Requirement already satisfied: pyclipper in /usr/local/lib/python3.10/dist-packages (from easyocr) (1.3.0.post4)\n",
            "Requirement already satisfied: ninja in /usr/local/lib/python3.10/dist-packages (from easyocr) (1.11.1)\n",
            "Requirement already satisfied: requests in /usr/local/lib/python3.10/dist-packages (from torchvision>=0.5->easyocr) (2.27.1)\n",
            "Requirement already satisfied: filelock in /usr/local/lib/python3.10/dist-packages (from torch->easyocr) (3.12.2)\n",
            "Requirement already satisfied: typing-extensions in /usr/local/lib/python3.10/dist-packages (from torch->easyocr) (4.7.1)\n",
            "Requirement already satisfied: sympy in /usr/local/lib/python3.10/dist-packages (from torch->easyocr) (1.11.1)\n",
            "Requirement already satisfied: networkx in /usr/local/lib/python3.10/dist-packages (from torch->easyocr) (3.1)\n",
            "Requirement already satisfied: jinja2 in /usr/local/lib/python3.10/dist-packages (from torch->easyocr) (3.1.2)\n",
            "Requirement already satisfied: triton==2.0.0 in /usr/local/lib/python3.10/dist-packages (from torch->easyocr) (2.0.0)\n",
            "Requirement already satisfied: cmake in /usr/local/lib/python3.10/dist-packages (from triton==2.0.0->torch->easyocr) (3.25.2)\n",
            "Requirement already satisfied: lit in /usr/local/lib/python3.10/dist-packages (from triton==2.0.0->torch->easyocr) (16.0.6)\n",
            "Requirement already satisfied: six in /usr/local/lib/python3.10/dist-packages (from python-bidi->easyocr) (1.16.0)\n",
            "Requirement already satisfied: imageio>=2.4.1 in /usr/local/lib/python3.10/dist-packages (from scikit-image->easyocr) (2.25.1)\n",
            "Requirement already satisfied: tifffile>=2019.7.26 in /usr/local/lib/python3.10/dist-packages (from scikit-image->easyocr) (2023.7.18)\n",
            "Requirement already satisfied: PyWavelets>=1.1.1 in /usr/local/lib/python3.10/dist-packages (from scikit-image->easyocr) (1.4.1)\n",
            "Requirement already satisfied: packaging>=20.0 in /usr/local/lib/python3.10/dist-packages (from scikit-image->easyocr) (23.1)\n",
            "Requirement already satisfied: MarkupSafe>=2.0 in /usr/local/lib/python3.10/dist-packages (from jinja2->torch->easyocr) (2.1.3)\n",
            "Requirement already satisfied: urllib3<1.27,>=1.21.1 in /usr/local/lib/python3.10/dist-packages (from requests->torchvision>=0.5->easyocr) (1.26.16)\n",
            "Requirement already satisfied: certifi>=2017.4.17 in /usr/local/lib/python3.10/dist-packages (from requests->torchvision>=0.5->easyocr) (2023.7.22)\n",
            "Requirement already satisfied: charset-normalizer~=2.0.0 in /usr/local/lib/python3.10/dist-packages (from requests->torchvision>=0.5->easyocr) (2.0.12)\n",
            "Requirement already satisfied: idna<4,>=2.5 in /usr/local/lib/python3.10/dist-packages (from requests->torchvision>=0.5->easyocr) (2.10)\n",
            "Requirement already satisfied: mpmath>=0.19 in /usr/local/lib/python3.10/dist-packages (from sympy->torch->easyocr) (1.3.0)\n"
          ]
        }
      ],
      "source": [
        "pip install easyocr"
      ]
    },
    {
      "cell_type": "code",
      "source": [
        "pip install googletrans==3.1.0a0"
      ],
      "metadata": {
        "colab": {
          "base_uri": "https://localhost:8080/"
        },
        "id": "htHuwC7vZSKs",
        "outputId": "3e117792-5a01-4a52-e9e2-bfb3a9686762"
      },
      "execution_count": 3,
      "outputs": [
        {
          "output_type": "stream",
          "name": "stdout",
          "text": [
            "Requirement already satisfied: googletrans==3.1.0a0 in /usr/local/lib/python3.10/dist-packages (3.1.0a0)\n",
            "Requirement already satisfied: httpx==0.13.3 in /usr/local/lib/python3.10/dist-packages (from googletrans==3.1.0a0) (0.13.3)\n",
            "Requirement already satisfied: certifi in /usr/local/lib/python3.10/dist-packages (from httpx==0.13.3->googletrans==3.1.0a0) (2023.7.22)\n",
            "Requirement already satisfied: hstspreload in /usr/local/lib/python3.10/dist-packages (from httpx==0.13.3->googletrans==3.1.0a0) (2023.1.1)\n",
            "Requirement already satisfied: sniffio in /usr/local/lib/python3.10/dist-packages (from httpx==0.13.3->googletrans==3.1.0a0) (1.3.0)\n",
            "Requirement already satisfied: chardet==3.* in /usr/local/lib/python3.10/dist-packages (from httpx==0.13.3->googletrans==3.1.0a0) (3.0.4)\n",
            "Requirement already satisfied: idna==2.* in /usr/local/lib/python3.10/dist-packages (from httpx==0.13.3->googletrans==3.1.0a0) (2.10)\n",
            "Requirement already satisfied: rfc3986<2,>=1.3 in /usr/local/lib/python3.10/dist-packages (from httpx==0.13.3->googletrans==3.1.0a0) (1.5.0)\n",
            "Requirement already satisfied: httpcore==0.9.* in /usr/local/lib/python3.10/dist-packages (from httpx==0.13.3->googletrans==3.1.0a0) (0.9.1)\n",
            "Requirement already satisfied: h11<0.10,>=0.8 in /usr/local/lib/python3.10/dist-packages (from httpcore==0.9.*->httpx==0.13.3->googletrans==3.1.0a0) (0.9.0)\n",
            "Requirement already satisfied: h2==3.* in /usr/local/lib/python3.10/dist-packages (from httpcore==0.9.*->httpx==0.13.3->googletrans==3.1.0a0) (3.2.0)\n",
            "Requirement already satisfied: hyperframe<6,>=5.2.0 in /usr/local/lib/python3.10/dist-packages (from h2==3.*->httpcore==0.9.*->httpx==0.13.3->googletrans==3.1.0a0) (5.2.0)\n",
            "Requirement already satisfied: hpack<4,>=3.0 in /usr/local/lib/python3.10/dist-packages (from h2==3.*->httpcore==0.9.*->httpx==0.13.3->googletrans==3.1.0a0) (3.0.0)\n"
          ]
        }
      ]
    },
    {
      "cell_type": "code",
      "source": [
        "import easyocr\n",
        "import cv2 as cv"
      ],
      "metadata": {
        "id": "aaKJ41LBUo-V"
      },
      "execution_count": 4,
      "outputs": []
    },
    {
      "cell_type": "code",
      "source": [
        "img_path=\"/content/img3.jpg\"\n",
        "reader = easyocr.Reader(['te'])\n",
        "result = reader.readtext(img_path)\n",
        "result"
      ],
      "metadata": {
        "colab": {
          "base_uri": "https://localhost:8080/"
        },
        "id": "AWQkOAYZUI-4",
        "outputId": "f7003553-547e-4156-a8fc-f9fa2aa39192"
      },
      "execution_count": 26,
      "outputs": [
        {
          "output_type": "stream",
          "name": "stderr",
          "text": [
            "WARNING:easyocr.easyocr:Neither CUDA nor MPS are available - defaulting to CPU. Note: This module is much faster with a GPU.\n"
          ]
        },
        {
          "output_type": "execute_result",
          "data": {
            "text/plain": [
              "[([[34, 0], [238, 0], [238, 30], [34, 30]],\n",
              "  'ఒకదేశంగా ఆర్ధికంగా అభివృద్ధి',\n",
              "  0.6519575610293652),\n",
              " ([[18, 25], [254, 25], [254, 54], [18, 54]],\n",
              "  'చెందాలంటే పారిశ్రామికంగా ఎంతో',\n",
              "  0.696214973552687),\n",
              " ([[9, 50], [262, 50], [262, 82], [9, 82]],\n",
              "  'పురోగమించాల్సి ఉంటుంది. పరిశ్రమల',\n",
              "  0.5683394882746594),\n",
              " ([[6, 82], [66, 82], [66, 108], [6, 108]], 'ఏర్పాటు', 0.962687198509266),\n",
              " ([[121, 87], [145, 87], [145, 101], [121, 101]], 'ఇ', 0.6876853804444636),\n",
              " ([[144, 82], [264, 82], [264, 106], [144, 106]],\n",
              "  'సాధ్యమవుతుంది:',\n",
              "  0.9857682998039232),\n",
              " ([[8, 106], [264, 106], [264, 134], [8, 134]],\n",
              "  'పరిశ్రమలను స్దాపించాలంటే మూలధన',\n",
              "  0.7973963832783445),\n",
              " ([[20, 136], [112, 136], [112, 160], [20, 160]],\n",
              "  'లభ్యత చాలా',\n",
              "  0.5101726723829219),\n",
              " ([[108, 131], [228, 131], [228, 162], [108, 162]],\n",
              "  'కీలకమైన అంశం:',\n",
              "  0.7102525366711324),\n",
              " ([[55, 158], [218, 158], [218, 191], [55, 191]],\n",
              "  'విషయంలో తోద్పాటును',\n",
              "  0.5762167501040436),\n",
              " ([[38, 188], [236, 188], [236, 216], [38, 216]],\n",
              "  'లిందించడానికి దేశంలో ఎన్నో',\n",
              "  0.7252581177896028),\n",
              " ([[61, 219], [211, 219], [211, 237], [61, 237]],\n",
              "  'సంసలను సాపించారు',\n",
              "  0.9203675646062737),\n",
              " ([[60.478939620309816, 83.41419735452669],\n",
              "   [119.65258015222118, 78.59863690071334],\n",
              "   [121.52106037969018, 105.58580264547331],\n",
              "   [61.34741984777883, 109.40136309928666]],\n",
              "  'ద్వారానే',\n",
              "  0.7437629982834819)]"
            ]
          },
          "metadata": {},
          "execution_count": 26
        }
      ]
    },
    {
      "cell_type": "code",
      "source": [
        "for i in result:\n",
        "  print(i[1])"
      ],
      "metadata": {
        "colab": {
          "base_uri": "https://localhost:8080/"
        },
        "id": "o5_0Y24aUn6r",
        "outputId": "e21f6d4c-58e6-427e-cd76-dd801f8a5427"
      },
      "execution_count": 27,
      "outputs": [
        {
          "output_type": "stream",
          "name": "stdout",
          "text": [
            "ఒకదేశంగా ఆర్ధికంగా అభివృద్ధి\n",
            "చెందాలంటే పారిశ్రామికంగా ఎంతో\n",
            "పురోగమించాల్సి ఉంటుంది. పరిశ్రమల\n",
            "ఏర్పాటు\n",
            "ఇ\n",
            "సాధ్యమవుతుంది:\n",
            "పరిశ్రమలను స్దాపించాలంటే మూలధన\n",
            "లభ్యత చాలా\n",
            "కీలకమైన అంశం:\n",
            "విషయంలో తోద్పాటును\n",
            "లిందించడానికి దేశంలో ఎన్నో\n",
            "సంసలను సాపించారు\n",
            "ద్వారానే\n"
          ]
        }
      ]
    },
    {
      "cell_type": "code",
      "source": [
        "telugu_text = ' '.join(i[1] for i in result)\n",
        "telugu_text"
      ],
      "metadata": {
        "colab": {
          "base_uri": "https://localhost:8080/",
          "height": 70
        },
        "id": "jhzjz1CpcEs4",
        "outputId": "b5abde60-b833-4130-a6dd-e9da8cf26125"
      },
      "execution_count": 28,
      "outputs": [
        {
          "output_type": "execute_result",
          "data": {
            "text/plain": [
              "'ఒకదేశంగా ఆర్ధికంగా అభివృద్ధి చెందాలంటే పారిశ్రామికంగా ఎంతో పురోగమించాల్సి ఉంటుంది. పరిశ్రమల ఏర్పాటు ఇ సాధ్యమవుతుంది: పరిశ్రమలను స్దాపించాలంటే మూలధన లభ్యత చాలా కీలకమైన అంశం: విషయంలో తోద్పాటును లిందించడానికి దేశంలో ఎన్నో సంసలను సాపించారు ద్వారానే'"
            ],
            "application/vnd.google.colaboratory.intrinsic+json": {
              "type": "string"
            }
          },
          "metadata": {},
          "execution_count": 28
        }
      ]
    },
    {
      "cell_type": "code",
      "source": [
        "from googletrans import Translator\n",
        "translator = Translator()\n",
        "translated_text = translator.translate(telugu_text, src='te', dest='en')\n",
        "print(translated_text.text)\n"
      ],
      "metadata": {
        "colab": {
          "base_uri": "https://localhost:8080/"
        },
        "id": "4I23aoWVdN58",
        "outputId": "52135fbd-b4da-45ac-b312-face40f43a57"
      },
      "execution_count": 29,
      "outputs": [
        {
          "output_type": "stream",
          "name": "stdout",
          "text": [
            "In order to develop economically as a country, it has to progress a lot industrially. Setting up of industries is possible: Availability of capital is a very important factor for setting up of industries.\n"
          ]
        }
      ]
    },
    {
      "cell_type": "code",
      "source": [
        "translated_text = translator.translate(telugu_text, src='te', dest='ko')\n",
        "print(translated_text.text)"
      ],
      "metadata": {
        "colab": {
          "base_uri": "https://localhost:8080/"
        },
        "id": "WZ-cOwrPk0c5",
        "outputId": "3b46cdb5-9d07-4887-a92d-9107da8ea2d6"
      },
      "execution_count": 48,
      "outputs": [
        {
          "output_type": "stream",
          "name": "stdout",
          "text": [
            "국가가 경제적으로 발전하기 위해서는 산업적으로 많이 발전해야 합니다. 산업체의 설립이 가능하다: 자본의 가용성은 산업체의 설립에 있어 매우 중요한 요소이다.\n"
          ]
        }
      ]
    },
    {
      "cell_type": "code",
      "source": [
        "translated_text = translator.translate(telugu_text, src='te', dest='hi')\n",
        "print(translated_text.text)"
      ],
      "metadata": {
        "colab": {
          "base_uri": "https://localhost:8080/"
        },
        "id": "yFyuc2g5lDWt",
        "outputId": "c31aaff4-ce72-4c4d-816f-150018b27c3d"
      },
      "execution_count": 49,
      "outputs": [
        {
          "output_type": "stream",
          "name": "stdout",
          "text": [
            "एक देश के रूप में आर्थिक रूप से विकसित होने के लिए उसे औद्योगिक रूप से बहुत प्रगति करनी होगी। उद्योगों की स्थापना संभव है: उद्योगों की स्थापना के लिए पूंजी की उपलब्धता एक अत्यंत महत्वपूर्ण कारक है।\n"
          ]
        }
      ]
    }
  ]
}